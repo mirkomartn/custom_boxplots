{
 "cells": [
  {
   "cell_type": "code",
   "execution_count": 1,
   "metadata": {
    "collapsed": true
   },
   "outputs": [],
   "source": [
    "import pandas as pd\n",
    "import numpy as np\n",
    "import matplotlib.pyplot as plt"
   ]
  },
  {
   "cell_type": "code",
   "execution_count": 2,
   "metadata": {
    "collapsed": true
   },
   "outputs": [],
   "source": [
    "%matplotlib inline"
   ]
  },
  {
   "cell_type": "markdown",
   "metadata": {},
   "source": [
    "# Boxplot with custom whiskers (standard deviation)"
   ]
  },
  {
   "cell_type": "code",
   "execution_count": 3,
   "metadata": {},
   "outputs": [
    {
     "data": {
      "text/plain": [
       "array([[ -12,   17,  -23,  -21,   22,  -70,  -86,  -25,  -99,    9,   76,\n",
       "         -25,   58,   95,   57,    2,  -21,   41,   23,  -47,  -63,   17,\n",
       "         -27,   -1,  -60,   85,   88,    4,   29,  -11,  -35,   64],\n",
       "       [  64,   36,   80,   73,   66,  -88,  -14,   42,   74,   69,   -6,\n",
       "         -49,   87,   39,   62,   78,  -70,   47,   27,   21,   21,  -63,\n",
       "        -100,  -19,   65,   57,   54,   54,  -33,  -35,  -25,  -25],\n",
       "       [ -27,    8,  -42,  -33,   -5,  -19,  -93,   47,   -4,   54,    0,\n",
       "          58,  -49,   37,   57,    7,    3,  -64,   11,   86,   98,   32,\n",
       "           3,  -73,  -50,   12,  -18,   -7,  -94,  -49,   13,   70]])"
      ]
     },
     "execution_count": 3,
     "metadata": {},
     "output_type": "execute_result"
    }
   ],
   "source": [
    "test = np.random.randint(low=-100, high=100, size=(3,32))\n",
    "test \n",
    "\n",
    "#we can just use all_.values to get a np.array and use the code below to plot\n",
    "# I see that week_* is already some kind of mean, I don't know, it doesn't matter"
   ]
  },
  {
   "cell_type": "code",
   "execution_count": 4,
   "metadata": {},
   "outputs": [
    {
     "data": {
      "image/png": "[encoded data removed]",
      "text/plain": [
       "<matplotlib.figure.Figure at 0x7ff8bd4e0ef0>"
      ]
     },
     "metadata": {},
     "output_type": "display_data"
    }
   ],
   "source": [
    "# inspired by http://blog.bharatbhole.com/creating-boxplots-with-matplotlib/\n",
    "\n",
    "# Create a figure instance\n",
    "fig = plt.figure(1, figsize=(9, 6))\n",
    "\n",
    "# Create an axes instance\n",
    "ax = fig.add_subplot(111)\n",
    "\n",
    "# set x and y axes limits\n",
    "plt.xlim(-1, 7)\n",
    "plt.ylim(-200, 200)\n",
    "\n",
    "# create a boxplot, enable color editing, show mean, and show it as a line\n",
    "bp = plt.boxplot(test.T, patch_artist=True, showmeans=True, meanline=True)\n",
    "\n",
    "# make the whiskers \"invisible\"\n",
    "for whisker in bp['whiskers']:\n",
    "    whisker.set(linewidth=0)\n",
    "for cap in bp['caps']:\n",
    "    cap.set(linewidth=0)\n",
    "    \n",
    "## change color and linewidth of the medians\n",
    "## I made the median invisible, as we're plotting error bars with respect to the mean value\n",
    "for median in bp['medians']:\n",
    "    median.set(color='green', linewidth=0)\n",
    "    \n",
    "## change the color and linewidth of the mean\n",
    "for mean in bp['means']:\n",
    "    mean.set(color='green', linewidth=1)\n",
    "    \n",
    "## change outline color, fill color and linewidth of the boxes\n",
    "for box in bp['boxes']:\n",
    "    # change outline color\n",
    "    box.set( color='#7570b3', linewidth=1)\n",
    "    # change fill color\n",
    "    box.set( facecolor = '#1b9e77' )\n",
    "    \n",
    "## Custom x-axis labels\n",
    "ax.set_xticklabels(['Row 1', 'Row 2', 'Row 3', 'Row 4'])\n",
    "    \n",
    "# add custom whiskers, fmt='None' so that no points are plotted, but only the error bars, set to std*3\n",
    "# plotted in ecolor='gray' and linewidth, ln=1, capthick=2 sets the thickness of the end of the error bar\n",
    "plt.errorbar(np.arange(1,4), test.mean(1), yerr=test.std(1) * 3, \n",
    "             fmt='None', ecolor='gray', capthick=2, lw=1)\n",
    "\n",
    "\n",
    "\n",
    "# build a for loop to plot individual points\n",
    "for i in range(1,4):\n",
    "    plt.plot(np.zeros(32) + i, test[i - 1], 'or')\n",
    "\n",
    "# Save the figure\n",
    "#fig.savefig('fig1.png', bbox_inches='tight')"
   ]
  }
 ],
 "metadata": {
  "anaconda-cloud": {},
  "kernelspec": {
   "display_name": "Python 3",
   "language": "python",
   "name": "python3"
  },
  "language_info": {
   "codemirror_mode": {
    "name": "ipython",
    "version": 3
   },
   "file_extension": ".py",
   "mimetype": "text/x-python",
   "name": "python",
   "nbconvert_exporter": "python",
   "pygments_lexer": "ipython3",
   "version": "3.6.3"
  }
 },
 "nbformat": 4,
 "nbformat_minor": 2
}
